{
  "nbformat": 4,
  "nbformat_minor": 0,
  "metadata": {
    "colab": {
      "provenance": [],
      "authorship_tag": "ABX9TyNGSgGGASilZ+PVxkLaNxuL",
      "include_colab_link": true
    },
    "kernelspec": {
      "name": "python3",
      "display_name": "Python 3"
    },
    "language_info": {
      "name": "python"
    }
  },
  "cells": [
    {
      "cell_type": "markdown",
      "metadata": {
        "id": "view-in-github",
        "colab_type": "text"
      },
      "source": [
        "<a href=\"https://colab.research.google.com/github/NHYT123/colab_lab2/blob/main/lab2.ipynb\" target=\"_parent\"><img src=\"https://colab.research.google.com/assets/colab-badge.svg\" alt=\"Open In Colab\"/></a>"
      ]
    },
    {
      "cell_type": "code",
      "source": [
        "import pandas as pd\n",
        "\n",
        "# Загрузка данных\n",
        "df = pd.read_csv('/content/sample_data/mba.csv')\n",
        "\n",
        "# Проверим информацию о данных\n",
        "print(df.info())\n"
      ],
      "metadata": {
        "colab": {
          "base_uri": "https://localhost:8080/"
        },
        "id": "L7UvnxVAnwp1",
        "outputId": "df8b95ba-f858-4d57-c833-c3c461a227b3"
      },
      "execution_count": null,
      "outputs": [
        {
          "output_type": "stream",
          "name": "stdout",
          "text": [
            "<class 'pandas.core.frame.DataFrame'>\n",
            "RangeIndex: 10000 entries, 0 to 9999\n",
            "Data columns (total 20 columns):\n",
            " #   Column                          Non-Null Count  Dtype  \n",
            "---  ------                          --------------  -----  \n",
            " 0   Person ID                       10000 non-null  int64  \n",
            " 1   Age                             10000 non-null  int64  \n",
            " 2   Gender                          10000 non-null  object \n",
            " 3   Undergraduate Major             10000 non-null  object \n",
            " 4   Undergraduate GPA               10000 non-null  float64\n",
            " 5   Years of Work Experience        10000 non-null  int64  \n",
            " 6   Current Job Title               10000 non-null  object \n",
            " 7   Annual Salary (Before MBA)      10000 non-null  int64  \n",
            " 8   Has Management Experience       10000 non-null  object \n",
            " 9   GRE/GMAT Score                  10000 non-null  int64  \n",
            " 10  Undergrad University Ranking    10000 non-null  int64  \n",
            " 11  Entrepreneurial Interest        10000 non-null  float64\n",
            " 12  Networking Importance           10000 non-null  float64\n",
            " 13  MBA Funding Source              10000 non-null  object \n",
            " 14  Desired Post-MBA Role           10000 non-null  object \n",
            " 15  Expected Post-MBA Salary        10000 non-null  int64  \n",
            " 16  Location Preference (Post-MBA)  10000 non-null  object \n",
            " 17  Reason for MBA                  10000 non-null  object \n",
            " 18  Online vs. On-Campus MBA        10000 non-null  object \n",
            " 19  Decided to Pursue MBA?          10000 non-null  object \n",
            "dtypes: float64(3), int64(7), object(10)\n",
            "memory usage: 1.5+ MB\n",
            "None\n"
          ]
        }
      ]
    },
    {
      "cell_type": "code",
      "source": [
        "from sklearn.model_selection import train_test_split\n",
        "from sklearn.preprocessing import LabelEncoder\n",
        "\n",
        "# Преобразуем категориальные столбцы в числовые\n",
        "categorical_columns = ['Gender', 'Has Management Experience', 'MBA Funding Source', 'Desired Post-MBA Role',\n",
        "                       'Location Preference (Post-MBA)', 'Reason for MBA', 'Online vs. On-Campus MBA']\n",
        "\n",
        "label_encoder = LabelEncoder()\n",
        "\n",
        "for col in categorical_columns:\n",
        "    df[col] = label_encoder.fit_transform(df[col])\n",
        "\n",
        "# Целевая переменная\n",
        "y = df['Decided to Pursue MBA?']\n",
        "\n",
        "# Признаки\n",
        "X = df.drop('Decided to Pursue MBA?', axis=1)\n",
        "\n",
        "# Проверим типы данных после кодирования\n",
        "print(X.dtypes)\n"
      ],
      "metadata": {
        "colab": {
          "base_uri": "https://localhost:8080/"
        },
        "id": "rApx6_4Yn1r9",
        "outputId": "de22bd45-5ff5-49bc-93df-3bc5f44e4124"
      },
      "execution_count": null,
      "outputs": [
        {
          "output_type": "stream",
          "name": "stdout",
          "text": [
            "Person ID                           int64\n",
            "Age                                 int64\n",
            "Gender                              int64\n",
            "Undergraduate Major                object\n",
            "Undergraduate GPA                 float64\n",
            "Years of Work Experience            int64\n",
            "Current Job Title                  object\n",
            "Annual Salary (Before MBA)          int64\n",
            "Has Management Experience           int64\n",
            "GRE/GMAT Score                      int64\n",
            "Undergrad University Ranking        int64\n",
            "Entrepreneurial Interest          float64\n",
            "Networking Importance             float64\n",
            "MBA Funding Source                  int64\n",
            "Desired Post-MBA Role               int64\n",
            "Expected Post-MBA Salary            int64\n",
            "Location Preference (Post-MBA)      int64\n",
            "Reason for MBA                      int64\n",
            "Online vs. On-Campus MBA            int64\n",
            "dtype: object\n"
          ]
        }
      ]
    },
    {
      "cell_type": "code",
      "source": [
        "# Разделение данных на обучающую и тестовую выборки\n",
        "X_train, X_test, y_train, y_test = train_test_split(X, y, test_size=0.4, random_state=42)\n",
        "\n",
        "X_train = X_train.apply(pd.to_numeric, errors='coerce')\n",
        "X_test = X_test.apply(pd.to_numeric, errors='coerce')\n",
        "\n",
        "# Проверим размерности выборок\n",
        "print(X_train.shape, X_test.shape)\n"
      ],
      "metadata": {
        "colab": {
          "base_uri": "https://localhost:8080/"
        },
        "id": "jDd2gw7rn6hP",
        "outputId": "2a3ababc-2db2-49f4-84d2-b6f5aada2f2f"
      },
      "execution_count": null,
      "outputs": [
        {
          "output_type": "stream",
          "name": "stdout",
          "text": [
            "(6000, 19) (4000, 19)\n"
          ]
        }
      ]
    },
    {
      "cell_type": "code",
      "source": [
        "# Заменяем 'No' в столбце \"Age\" на медиану\n",
        "X_train['Age'] = X_train['Age'].replace('No', '')\n",
        "\n",
        "# Удаляем строки с пропущенными значениями\n",
        "X_cleaned = X_train.dropna()\n",
        "\n",
        "# Преобразуем категориальные переменные в числовые\n",
        "X_train['Gender'] = X_train['Gender'].replace({1: 'Male', 0: 'Female', 2: 'Other'})\n",
        "\n",
        "# Применяем one-hot encoding к столбцу \"Undergraduate Major\"\n",
        "X_train = pd.get_dummies(X_train, columns=['Undergraduate Major'])\n",
        "\n",
        "# Если необходимо, можно преобразовать данные в числовой формат\n",
        "X_train['Undergraduate GPA'] = pd.to_numeric(X_train['Undergraduate GPA'], errors='coerce')\n",
        "X_test['Undergraduate GPA'] = pd.to_numeric(X_test['Undergraduate GPA'], errors='coerce')\n",
        "\n",
        "# Применяем one-hot encoding для категориальных признаков\n",
        "X_train = pd.get_dummies(X_train, drop_first=True)\n",
        "\n",
        "# Преобразуем числовые столбцы в формат float\n",
        "X_train = X_train.astype(float)\n",
        "\n",
        "# Убедимся, что в данных нет строковых значений\n",
        "X_train = X_train.apply(pd.to_numeric, errors='coerce')\n",
        "\n",
        "X_train = X_train.drop(columns=['Current Job Title'])\n",
        "\n",
        "X_train = X_train.select_dtypes(include=['number']).apply(pd.to_numeric, errors='coerce')\n",
        "\n",
        "# Удаляем строки с NaN значениями\n",
        "X_train = X_train.dropna()\n",
        "y_train = y_train.dropna()\n"
      ],
      "metadata": {
        "id": "u0JUavzdn_ur"
      },
      "execution_count": null,
      "outputs": []
    },
    {
      "cell_type": "code",
      "source": [
        "# Заменяем 'No' в столбце \"Age\" на пустоту\n",
        "X_test['Age'] = X_test['Age'].replace('No', '')\n",
        "\n",
        "# Удаляем строки с пропущенными значениями\n",
        "X_cleaned = X_test.dropna()\n",
        "\n",
        "# Преобразуем категориальные переменные в числовые\n",
        "X_test['Gender'] = X_test['Gender'].replace({1: 'Male', 0: 'Female', 2: 'Other'})\n",
        "\n",
        "# Применяем one-hot encoding к столбцу \"Undergraduate Major\"\n",
        "X_test = pd.get_dummies(X_test, columns=['Undergraduate Major'])\n",
        "\n",
        "# Если необходимо, можно преобразовать данные в числовой формат\n",
        "X_test['Undergraduate GPA'] = pd.to_numeric(X_test['Undergraduate GPA'], errors='coerce')\n",
        "\n",
        "# Применяем one-hot encoding для категориальных признаков\n",
        "X_test = pd.get_dummies(X_test, drop_first=True)\n",
        "\n",
        "# Преобразуем числовые столбцы в формат float\n",
        "X_test = X_test.astype(float)\n",
        "\n",
        "# Убедимся, что в данных нет строковых значений\n",
        "X_test = X_test.apply(pd.to_numeric, errors='coerce')\n",
        "\n",
        "X_test = X_test.drop(columns=['Current Job Title'])\n",
        "\n",
        "X_test = X_test.select_dtypes(include=['number']).apply(pd.to_numeric, errors='coerce')\n",
        "\n",
        "# Удаляем строки с NaN значениями\n",
        "X_test = X_test.dropna()\n",
        "y_test = y_test.dropna()"
      ],
      "metadata": {
        "id": "JN1LY0IAupAc"
      },
      "execution_count": null,
      "outputs": []
    },
    {
      "cell_type": "code",
      "source": [
        "from sklearn.linear_model import LogisticRegression\n",
        "\n",
        "# Инициализация модели логистической регрессии\n",
        "logreg = LogisticRegression(max_iter=1000)\n",
        "\n",
        "# Обучение модели на тренировочных данных\n",
        "logreg.fit(X_train, y_train)\n",
        "\n",
        "# Оценка качества модели на тренировочных данных\n",
        "train_score = logreg.score(X_train, y_train)\n",
        "print(f'Training accuracy: {train_score:.4f}')\n"
      ],
      "metadata": {
        "colab": {
          "base_uri": "https://localhost:8080/"
        },
        "id": "Jli5a4NKpPa4",
        "outputId": "d416bfde-4a0d-49db-dbd1-173b42d97d90"
      },
      "execution_count": null,
      "outputs": [
        {
          "output_type": "stream",
          "name": "stdout",
          "text": [
            "Training accuracy: 0.5857\n"
          ]
        },
        {
          "output_type": "stream",
          "name": "stderr",
          "text": [
            "/usr/local/lib/python3.11/dist-packages/sklearn/linear_model/_logistic.py:465: ConvergenceWarning: lbfgs failed to converge (status=1):\n",
            "STOP: TOTAL NO. of ITERATIONS REACHED LIMIT.\n",
            "\n",
            "Increase the number of iterations (max_iter) or scale the data as shown in:\n",
            "    https://scikit-learn.org/stable/modules/preprocessing.html\n",
            "Please also refer to the documentation for alternative solver options:\n",
            "    https://scikit-learn.org/stable/modules/linear_model.html#logistic-regression\n",
            "  n_iter_i = _check_optimize_result(\n"
          ]
        }
      ]
    },
    {
      "cell_type": "code",
      "source": [
        "# Прогноз на тестовых данных\n",
        "y_pred = logreg.predict(X_test)\n",
        "\n",
        "# Оценка качества модели на тестовых данных\n",
        "test_score = logreg.score(X_test, y_test)\n",
        "print(f'Test accuracy: {test_score:.4f}')\n",
        "\n"
      ],
      "metadata": {
        "colab": {
          "base_uri": "https://localhost:8080/"
        },
        "id": "P2iNAmtfpRM3",
        "outputId": "640469c8-7637-42ee-ce39-4e61c093bc6c"
      },
      "execution_count": null,
      "outputs": [
        {
          "output_type": "stream",
          "name": "stdout",
          "text": [
            "Test accuracy: 0.5982\n"
          ]
        }
      ]
    },
    {
      "cell_type": "code",
      "source": [
        "from sklearn.metrics import confusion_matrix, roc_auc_score\n",
        "\n",
        "# Матрица ошибок\n",
        "conf_matrix = confusion_matrix(y_test, y_pred)\n",
        "print(f'Confusion Matrix:\\n{conf_matrix}')\n",
        "\n",
        "# ROC-AUC\n",
        "y_pred_proba = logreg.predict_proba(X_test)[:, 1]  # вероятности положительного класса\n",
        "roc_auc = roc_auc_score(y_test, y_pred_proba)\n",
        "print(f'ROC-AUC: {roc_auc:.4f}')\n"
      ],
      "metadata": {
        "id": "hlFchSROuC1j",
        "colab": {
          "base_uri": "https://localhost:8080/"
        },
        "outputId": "cc69eecd-d9af-40ab-c9ab-4dffc90955c7"
      },
      "execution_count": null,
      "outputs": [
        {
          "output_type": "stream",
          "name": "stdout",
          "text": [
            "Confusion Matrix:\n",
            "[[   0 1607]\n",
            " [   0 2393]]\n",
            "ROC-AUC: 0.4965\n"
          ]
        }
      ]
    },
    {
      "cell_type": "code",
      "source": [
        "from sklearn.preprocessing import LabelEncoder\n",
        "from sklearn.metrics import roc_curve\n",
        "import matplotlib.pyplot as plt\n",
        "import numpy as np\n",
        "\n",
        "\n",
        "# Кодируем метки 'No' и 'Yes' в 0 и 1\n",
        "label_encoder = LabelEncoder()\n",
        "y_test_encoded = label_encoder.fit_transform(y_test)\n",
        "\n",
        "# Для бинарной классификации y_pred_proba - вероятности для класса 'Yes'\n",
        "y_pred_proba_encoded = y_pred_proba  # Если y_pred_proba одномерный, то это уже нужные вероятности\n",
        "\n",
        "# ROC-кривая\n",
        "fpr, tpr, thresholds = roc_curve(y_test_encoded, y_pred_proba_encoded)\n",
        "\n",
        "# Вычисление AUC\n",
        "roc_auc = np.trapz(tpr, fpr)\n",
        "\n",
        "# Построение графика\n",
        "plt.figure(figsize=(8, 6))\n",
        "plt.plot(fpr, tpr, label=f'Logistic Regression (AUC = {roc_auc:.2f})')\n",
        "plt.plot([0, 1], [0, 1], linestyle='--', color='gray')  # линия случайного классификатора\n",
        "plt.xlabel('False Positive Rate')\n",
        "plt.ylabel('True Positive Rate')\n",
        "plt.title('ROC-кривая для модели логистической регрессии')\n",
        "plt.legend(loc='lower right')\n",
        "plt.grid(True)\n",
        "plt.show()\n"
      ],
      "metadata": {
        "id": "OuuttCBwuEhg",
        "colab": {
          "base_uri": "https://localhost:8080/",
          "height": 564
        },
        "outputId": "1f18b344-46fe-4b0b-c336-be2014814ba0"
      },
      "execution_count": null,
      "outputs": [
        {
          "output_type": "display_data",
          "data": {
            "text/plain": [
              "<Figure size 800x600 with 1 Axes>"
            ],
            "image/png": "[encoded data removed]"
          },
          "metadata": {}
        }
      ]
    }
  ]
}